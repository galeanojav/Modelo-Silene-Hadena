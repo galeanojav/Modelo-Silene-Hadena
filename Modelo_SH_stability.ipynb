{
 "cells": [
  {
   "cell_type": "markdown",
   "metadata": {},
   "source": [
    "# Study of stability of the Silene-Hadene model \n",
    "\n",
    "this our general model adapted to Silene-Hadene system\n",
    "\n",
    "N_1 population size of Silene.\n",
    "N_2 Population size of Hadene (male)\n",
    "N_3 Population size of Hadene (female)\n",
    "\n",
    "\n",
    "$$ \\frac{dN_1}{dt} = (-r_1 + b_{12} N_2 - b_{13} N_3 ) N_1 -(\\alpha_{1} + c_1 (b_{12} N_2 -b_{13} N_3)) N_{1}^{2}$$\n",
    "\n",
    "$$ \\frac{dN_2}{dt} = (- r_2 + b_{23} N_3 ) N_2 -(\\alpha_{2} + c_2 b_{23} N_3) N_{2}^{2}$$\n",
    "\n",
    "$$ \\frac{dN_3}{dt} = (-r_3 + b_{31} N_1 + b_{32} N_2 ) N_3 -(\\alpha_{3} + c_3 (b_{31} N_1 + b_{32} N_2)) N_{3}^{2}$$"
   ]
  },
  {
   "cell_type": "code",
   "execution_count": 2,
   "metadata": {
    "collapsed": false
   },
   "outputs": [],
   "source": [
    "\"\"\"Libraries\"\"\"\n",
    "\n",
    "#import sympy module to solve the equation\n",
    "\n",
    "from sympy import *"
   ]
  },
  {
   "cell_type": "code",
   "execution_count": 3,
   "metadata": {},
   "outputs": [],
   "source": [
    "alpha1,alpha2, alpha3 = symbols('alpha1 alpha2 alpha3')\n",
    "r1, r2,r3 = symbols('r1 r2 r3')\n",
    "c1, c2, c3 = symbols('c1 c2 c3')\n",
    "\n",
    "b12, b13 = symbols('b12 b13')\n",
    "b21, b23 = symbols('b21 b23')\n",
    "b31, b32 = symbols('b31 b32')\n",
    "\n",
    "x, y, z = symbols('x y z')"
   ]
  },
  {
   "cell_type": "code",
   "execution_count": 4,
   "metadata": {},
   "outputs": [],
   "source": [
    "f = Function('f')\n",
    "g = Function('g')\n",
    "h = Function('h')\n",
    "\n",
    "f1= Function('f1')\n",
    "g1= Function('g1')\n",
    "h1= Function('h1')\n",
    "\n",
    "f = (r1 + b12 *y + b13*z)*x - (alpha1 + c1*(b12*y + b13*z))*x**2\n",
    "g = (r2 + b21* x + b23*z)*y - (alpha2 + c2*(b21*x+ b23*z ))*y**2\n",
    "h = (r3 + b31 *x + b32*y)*z - (alpha3 + c3 *(b31*x + b32*y))*z**2\n",
    "\n",
    "f1 = (r1 + b12 *y + b13*z) - (alpha1 + c1*(b12*y + b13*z))*x\n",
    "g1 = (r2 + b21* x + b23*z) - (alpha2 + c2*(b21*x+ b23*z ))*y\n",
    "h1 = (r3 + b31 *x + b32*y) - (alpha3 + c3 *(b31*x + b32*y))*z\n",
    "\n"
   ]
  },
  {
   "cell_type": "code",
   "execution_count": 5,
   "metadata": {},
   "outputs": [
    {
     "data": {
      "text/plain": [
       "[Eq(b12*y + b13*z + r1 - x*(alpha1 + c1*(b12*y + b13*z)), 0),\n",
       " Eq(b21*x + b23*z + r2 - y*(alpha2 + c2*(b21*x + b23*z)), 0),\n",
       " Eq(b31*x + b32*y + r3 - z*(alpha3 + c3*(b31*x + b32*y)), 0)]"
      ]
     },
     "execution_count": 5,
     "metadata": {},
     "output_type": "execute_result"
    }
   ],
   "source": [
    "ecuacion1 = Eq(f, 0)\n",
    "ecuacion2 = Eq(g, 0)\n",
    "ecuacion3 = Eq(h, 0)\n",
    "ecuacion =[ecuacion1, ecuacion2,ecuacion3]\n",
    "\n",
    "ecu1 = Eq(f1, 0)\n",
    "ecu2 = Eq(g1, 0)\n",
    "ecu3 = Eq(h1, 0)\n",
    "ecuacion =[ecuacion1, ecuacion2,ecuacion3]\n",
    "equation = [ecu1,ecu2,ecu3]\n",
    "equation"
   ]
  },
  {
   "cell_type": "code",
   "execution_count": null,
   "metadata": {},
   "outputs": [],
   "source": [
    "\"\"\"Tal y como está ahora no resuelve la ecuación. \n",
    "Tengo que probar en un server y dejar que termine\"\"\"\n",
    "\n",
    "solve(equation,x,y,z)"
   ]
  },
  {
   "cell_type": "code",
   "execution_count": null,
   "metadata": {},
   "outputs": [],
   "source": [
    "(x0,y0,z0),(x1,y1,z1),(x2,y2,z2)=_"
   ]
  },
  {
   "cell_type": "code",
   "execution_count": 12,
   "metadata": {},
   "outputs": [
    {
     "data": {
      "text/plain": [
       "Matrix([\n",
       "[-x**2*(alpha1 + c1*(b12*y + b13*z)) + x*(b12*y + b13*z + r1)],\n",
       "[-y**2*(alpha2 + c2*(b21*x + b23*z)) + y*(b21*x + b23*z + r2)],\n",
       "[-z**2*(alpha3 + c3*(b31*x + b32*y)) + z*(b31*x + b32*y + r3)]])"
      ]
     },
     "execution_count": 12,
     "metadata": {},
     "output_type": "execute_result"
    }
   ],
   "source": [
    "M = Matrix((f, g, h))\n",
    "M"
   ]
  },
  {
   "cell_type": "code",
   "execution_count": 13,
   "metadata": {},
   "outputs": [
    {
     "data": {
      "text/plain": [
       "Matrix([\n",
       "[b12*y + b13*z + r1 - 2*x*(alpha1 + c1*(b12*y + b13*z)),                                   -b12*c1*x**2 + b12*x,                                   -b13*c1*x**2 + b13*x],\n",
       "[                                  -b21*c2*y**2 + b21*y, b21*x + b23*z + r2 - 2*y*(alpha2 + c2*(b21*x + b23*z)),                                   -b23*c2*y**2 + b23*y],\n",
       "[                                  -b31*c3*z**2 + b31*z,                                   -b32*c3*z**2 + b32*z, b31*x + b32*y + r3 - 2*z*(alpha3 + c3*(b31*x + b32*y))]])"
      ]
     },
     "execution_count": 13,
     "metadata": {},
     "output_type": "execute_result"
    }
   ],
   "source": [
    "J = M.jacobian((x, y,z))\n",
    "J"
   ]
  },
  {
   "cell_type": "code",
   "execution_count": 14,
   "metadata": {},
   "outputs": [
    {
     "data": {
      "text/plain": [
       "Matrix([\n",
       "[r1,  0,  0],\n",
       "[ 0, r2,  0],\n",
       "[ 0,  0, r3]])"
      ]
     },
     "execution_count": 14,
     "metadata": {},
     "output_type": "execute_result"
    }
   ],
   "source": [
    "\"\"\"Sabemos que una solución es (0,0,0)\"\"\"\n",
    "M0 = J.subs(x, 0).subs(y, 0).subs(z,0)\n",
    "M0"
   ]
  },
  {
   "cell_type": "code",
   "execution_count": 15,
   "metadata": {},
   "outputs": [
    {
     "data": {
      "text/plain": [
       "{r2: 1, r3: 1, r1: 1}"
      ]
     },
     "execution_count": 15,
     "metadata": {},
     "output_type": "execute_result"
    }
   ],
   "source": [
    "M0.eigenvals()"
   ]
  },
  {
   "cell_type": "code",
   "execution_count": null,
   "metadata": {},
   "outputs": [],
   "source": []
  }
 ],
 "metadata": {
  "kernelspec": {
   "display_name": "Python 3",
   "language": "python",
   "name": "python3"
  },
  "language_info": {
   "codemirror_mode": {
    "name": "ipython",
    "version": 3
   },
   "file_extension": ".py",
   "mimetype": "text/x-python",
   "name": "python",
   "nbconvert_exporter": "python",
   "pygments_lexer": "ipython3",
   "version": "3.6.3"
  }
 },
 "nbformat": 4,
 "nbformat_minor": 2
}
