{
 "cells": [
  {
   "cell_type": "markdown",
   "metadata": {},
   "source": [
    "# Silene-Hadene-Parasitoid model \n",
    "\n",
    "this our general model adapted to Silene-Hadene system\n",
    "\n",
    "N_1 population size of Silene\n",
    "N_2 Population size of Hadene (male)\n",
    "N_3 Population size of Hadene (female)\n",
    "N_4 Population size of Parasitoid\n",
    "\n",
    "\n",
    "$$ \\frac{dN_1}{dt} = (-r_1 + b_{12} N_2 - b_{13} N_3 ) N_1 -(\\alpha_{1} + c_1 (b_{12} N_2 -b_{13} N_3)) N_{1}^{2}$$\n",
    "\n",
    "$$ \\frac{dN_2}{dt} = (-r_2 +  b_{23} N_3 ) N_2 -(\\alpha_{2} + c_2 b_{23} N_3) N_{2}^{2}$$\n",
    "\n",
    "$$ \\frac{dN_3}{dt} = (- r_3 + b_{31} N_1 + b_{32} N_2 - b_{34} N_4 ) N_3 -(\\alpha_{3} + c_3 (b_{31} N_1 + b_{32} N_2- b_{34} N_4)) N_{3}^{2}$$\n",
    "\n",
    "$$ \\frac{dN_4}{dt} = (-r_4 + b_{43} N_3 ) N_4 -(\\alpha_{4} + c_4 b_{43} N_3) N_{3}^{2}$$\n"
   ]
  },
  {
   "cell_type": "code",
   "execution_count": 1,
   "metadata": {},
   "outputs": [],
   "source": [
    "\"\"\"Libraries\"\"\"\n",
    "\n",
    "from scipy.integrate import odeint #Used for solving the equation\n",
    "from pylab import * #For using plot\n",
    "%matplotlib inline"
   ]
  },
  {
   "cell_type": "code",
   "execution_count": 2,
   "metadata": {},
   "outputs": [],
   "source": [
    "\"\"\"Function\"\"\"\n",
    "\n",
    "r = lambda P, t: [(r1 + b12 * P[1] + b13*P[2])*P[0] - (alpha1 + c1*(b12*P[1] + b13*P[2]))*P[0]**2 , \n",
    "                (r2 + b21* P[0] + b23 * P[2])*P[1] - (alpha2 + c2*(b21*P[0] + b23*P[2]))*P[1]**2 , \n",
    "                  (r3 + b31*P[0] + b32*P[1] + b34*P[3])*P[2] - (alpha3 + c3 *(b31*P[0] + b32*P[1]+ b34*P[3]))*P[2]**2,\n",
    "                 (r4 + b43*P[2])*P[3] - (alpha4 + c4 *(b43*P[2]))*P[3]**2]\n",
    "\n"
   ]
  },
  {
   "cell_type": "code",
   "execution_count": 3,
   "metadata": {},
   "outputs": [],
   "source": [
    "\"\"\"Parameters\"\"\"\n",
    "\n",
    "P_0 = [10, 20, 30, 2]\n",
    "\n",
    "r1 = -0.00274\n",
    "r2 = -0.1\n",
    "r3 = -0.0667\n",
    "r4 = -0.0667\n",
    "\n",
    "alpha1 = 0.00025\n",
    "alpha2 = 0.005\n",
    "alpha3 = 0.00125\n",
    "alpha4 = 0.004\n",
    "\n",
    "c1 = 0.00025\n",
    "c2= 0.0025\n",
    "c3 = 0.0025\n",
    "c4 = 0.004\n",
    "\n",
    "# Interactions\n",
    "\n",
    "b12= 0.0527\n",
    "b13 = -0.00259\n",
    "b21 = 0.0\n",
    "b23 = 0.0055\n",
    "b31 = 0.0395\n",
    "b32 = 0.0055\n",
    "b34 = - 0.122\n",
    "b43 = 0.011"
   ]
  },
  {
   "cell_type": "code",
   "execution_count": 4,
   "metadata": {},
   "outputs": [],
   "source": [
    "t = linspace(0, 100*pi, 500)\n",
    "\n",
    "P = odeint(r, P_0, t)"
   ]
  },
  {
   "cell_type": "code",
   "execution_count": 5,
   "metadata": {},
   "outputs": [
    {
     "data": {
      "image/png": "[encoded data removed]",
      "text/plain": [
       "<Figure size 720x360 with 2 Axes>"
      ]
     },
     "metadata": {},
     "output_type": "display_data"
    }
   ],
   "source": [
    "fig, axes = plt.subplots(nrows=1, ncols=2, figsize = (10,5))\n",
    "\n",
    "axes[0].plot(t, P[:,0], 'r')\n",
    "axes[0].plot(t, P[:,1], 'b')\n",
    "axes[0].plot(t, P[:,2], 'g')\n",
    "axes[0].plot(t, P[:,3], 'k')\n",
    "axes[0].set_xlabel('Time')\n",
    "axes[0].set_ylabel('Population')\n",
    "axes[0].set_title('Solutions')\n",
    "axes[0].legend(('Plant','Males','Females','Parasitoids'))\n",
    "\n",
    "axes[1].plot(P[:,2], P[:,1], 'k')\n",
    "axes[1].plot(P[:,2], P[:,0],'g')\n",
    "axes[1].set_xlabel('Females')\n",
    "axes[1].set_ylabel('Males/Plants')\n",
    "axes[1].set_title('Space Phase')\n",
    "    \n",
    "fig.tight_layout()"
   ]
  },
  {
   "cell_type": "code",
   "execution_count": 33,
   "metadata": {},
   "outputs": [
    {
     "data": {
      "text/plain": [
       "array([3617.37560566,  199.50416658,  398.11149976,  200.42502856])"
      ]
     },
     "execution_count": 33,
     "metadata": {},
     "output_type": "execute_result"
    }
   ],
   "source": [
    "P[-1,:]"
   ]
  },
  {
   "cell_type": "code",
   "execution_count": 34,
   "metadata": {},
   "outputs": [
    {
     "data": {
      "text/plain": [
       "array([3617.37560566,  199.50416658,  398.11149976,  200.42502856])"
      ]
     },
     "execution_count": 34,
     "metadata": {},
     "output_type": "execute_result"
    }
   ],
   "source": [
    "P[-1,:]"
   ]
  },
  {
   "cell_type": "code",
   "execution_count": 35,
   "metadata": {},
   "outputs": [
    {
     "data": {
      "text/plain": [
       "array([3617.37560566,  199.50416658,  398.11149976,  200.42502856])"
      ]
     },
     "execution_count": 35,
     "metadata": {},
     "output_type": "execute_result"
    }
   ],
   "source": [
    "P[-1,:]"
   ]
  },
  {
   "cell_type": "code",
   "execution_count": null,
   "metadata": {},
   "outputs": [],
   "source": []
  }
 ],
 "metadata": {
  "kernelspec": {
   "display_name": "Python 3",
   "language": "python",
   "name": "python3"
  },
  "language_info": {
   "codemirror_mode": {
    "name": "ipython",
    "version": 3
   },
   "file_extension": ".py",
   "mimetype": "text/x-python",
   "name": "python",
   "nbconvert_exporter": "python",
   "pygments_lexer": "ipython3",
   "version": "3.6.5"
  }
 },
 "nbformat": 4,
 "nbformat_minor": 2
}
